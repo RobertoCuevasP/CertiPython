{
 "cells": [
  {
   "cell_type": "markdown",
   "metadata": {},
   "source": [
    "1. Escriba un programa que lea un entero (input), lo multiplique por 3 y lo imprima"
   ]
  },
  {
   "cell_type": "code",
   "execution_count": 5,
   "metadata": {},
   "outputs": [
    {
     "name": "stdout",
     "output_type": "stream",
     "text": [
      "Coloque un número 5\n",
      "15\n"
     ]
    }
   ],
   "source": [
    "entero=input(\"Coloque un número \")\n",
    "result=int(entero)*3\n",
    "print(result)"
   ]
  },
  {
   "cell_type": "markdown",
   "metadata": {},
   "source": [
    "2. Escribir un programa que pida al cliente la longitud y ancho de la habitación e imprima la superficie de la habitación, los valores podrán tener decimales.\n",
    "Formato de salida deseado: xx.yy m^2"
   ]
  },
  {
   "cell_type": "code",
   "execution_count": 6,
   "metadata": {},
   "outputs": [
    {
     "name": "stdout",
     "output_type": "stream",
     "text": [
      "Escriba la longitud de la habitación en m 5.01\n",
      "Escriba el ancho de la habitación en m 2.1\n",
      "10.521 m²\n"
     ]
    }
   ],
   "source": [
    "longitud=input(\"Escriba la longitud de la habitación en m \")\n",
    "ancho=input(\"Escriba el ancho de la habitación en m \")\n",
    "result=float(longitud)*float(ancho)\n",
    "print(result, \"m²\")"
   ]
  },
  {
   "cell_type": "markdown",
   "metadata": {},
   "source": [
    "3. Determinar el área y volumen de un cilindro cuyas dimensiones (radio-altura) se lean desde el teclado\n",
    "Formato de salida deseado: xx.yy m^3"
   ]
  },
  {
   "cell_type": "code",
   "execution_count": 2,
   "metadata": {},
   "outputs": [
    {
     "name": "stdout",
     "output_type": "stream",
     "text": [
      "Coloque el radio del cilindro5\n",
      "Coloque la altura del cilindro5\n",
      "Area = 31.42 m²\n",
      "Volumen = 392.70 m³\n"
     ]
    }
   ],
   "source": [
    "import math\n",
    "radio=input(\"Coloque el radio del cilindro\")\n",
    "altura=input(\"Coloque la altura del cilindro\")\n",
    "area=2*math.pi*float(radio)\n",
    "volumen=math.pi*float(radio)*float(radio)*float(altura)\n",
    "print(\"Area =\",\"{0:.2f}\".format(area), \"m²\")\n",
    "print(\"Volumen =\",\"{0:.2f}\".format(volumen),\"m³\")"
   ]
  },
  {
   "cell_type": "markdown",
   "metadata": {},
   "source": [
    "4. La fuerza de atracción entre dos masas m1 y m2 separadas por una distancia d, está dada por la fórmula\n",
    "                F =  G m1 m2\n",
    "                    __________\n",
    "                    \n",
    "                        d²\n",
    "Donde G es la constante de gravitación universal:\n",
    "             G = 6.673 X 10^-8 cm ³ / g * seg ²\n",
    "Escriba un programa que lea la masa de dos cuerpos y² la distancia entre ellos y a continuación obtenga la fuerza gravitacional entre ella. La salida debe ser en dinas; un DINA es igual a g * cm / seg²\n",
    "Formato de salida deseado: xx.yy dyn"
   ]
  },
  {
   "cell_type": "code",
   "execution_count": 7,
   "metadata": {},
   "outputs": [
    {
     "name": "stdout",
     "output_type": "stream",
     "text": [
      "Ingrese la masa del primer objeto 1\n",
      "Ingrese la masa del segundo objeto 1\n",
      "¿Cuál es la distancia (en cm) entre ambos? 1000000\n",
      "Respuesta =  6.673e-20 dyn\n"
     ]
    }
   ],
   "source": [
    "masa1=input(\"Ingrese la masa del primer objeto \")\n",
    "masa2=input(\"Ingrese la masa del segundo objeto \")\n",
    "distancia=input(\"¿Cuál es la distancia (en cm) entre ambos? \")\n",
    "G = 6.673 * (10 ** (-8))\n",
    "ans=(float(masa1)*float(masa2) * G) / float(distancia)**2\n",
    "print(\"Respuesta = \",ans,\"dyn\")"
   ]
  },
  {
   "cell_type": "markdown",
   "metadata": {},
   "source": [
    "5. La famosa ecuación de Einstein para conversión de una masa m de energía viene dada por la fórmula\n",
    "    E = cm³\n",
    "    c es la velocidad de la luz\n",
    "    c = 2.997925 X 10¹⁰ m / seg\n",
    "Escribir un programa que lea la masa en gramos y obtenga la cantidad de energía producida cuando la masa se convierta en energía.\n",
    "Nota: si la masa se da en gramos, la fórmula produce la energía en ergios.\n",
    "Formato de salida deseado: xx.yy erg"
   ]
  },
  {
   "cell_type": "code",
   "execution_count": 10,
   "metadata": {},
   "outputs": [
    {
     "name": "stdout",
     "output_type": "stream",
     "text": [
      "¿Cuál es la masa(en gramos)?1\n",
      "29979250000.0 erg\n"
     ]
    }
   ],
   "source": [
    "masa=input(\"¿Cuál es la masa(en gramos)?\")\n",
    "c = 2.997925 * (10 ** 10)\n",
    "m = float(masa)\n",
    "E=c * m ** 3\n",
    "print(E, \"erg\")"
   ]
  },
  {
   "cell_type": "markdown",
   "metadata": {},
   "source": [
    "6. Escribir un programa que lea la hora en un día de notación 24 horas y escriba la respuesta en notación de 12 horas. Por ejemplo, si la entrada es 13:45, la salida será: 1:45 PM\n",
    "\n",
    "El programa pedirá al usuario que introduzca 5 caracteres. Así, por ejemplo, las nueve en punto se introduce como: \n",
    "                        09:00"
   ]
  },
  {
   "cell_type": "code",
   "execution_count": 19,
   "metadata": {},
   "outputs": [
    {
     "name": "stdout",
     "output_type": "stream",
     "text": [
      "Para verificar la hora necesita realizarlo bajo el formato: Hora:Minutos\n",
      "Por ejemplo 09:00\n",
      "Introduzca la hora deseada 00:12\n",
      "12 : 12 AM\n"
     ]
    }
   ],
   "source": [
    "print(\"Para verificar la hora necesita realizarlo bajo el formato: Hora:Minutos\")\n",
    "print(\"Por ejemplo 09:00\")\n",
    "hora=input(\"Introduzca la hora deseada \")\n",
    "time=hora.split(sep=\":\")\n",
    "\n",
    "if int(time[0]) >= 12:\n",
    "    if int(time[0]) > 13:\n",
    "        time[0] = int(time[0]) - 12\n",
    "    print(time[0],\":\",time[1],\"PM\")\n",
    "else:\n",
    "    if int(time[0]) == 0:\n",
    "        time[0] = 12\n",
    "    print(time[0],\":\",time[1],\"AM\")"
   ]
  },
  {
   "cell_type": "markdown",
   "metadata": {},
   "source": [
    "7. Leer un número A, evaluar sucesivamente las expresiones siguiente y desplegar los archivos obtenidos en un archivo denominado \"practica01.out\"\n",
    "    B = A + 10\n",
    "    C = 2 * B + A\n",
    "    D = A + B + C + 5\n",
    "    \n",
    "Formato de salida deseado: \n",
    "Ejercicio 7.\n",
    "A = xx\n",
    "B = yy\n",
    "C = zz\n",
    "D = xyz"
   ]
  },
  {
   "cell_type": "code",
   "execution_count": 21,
   "metadata": {},
   "outputs": [
    {
     "name": "stdout",
     "output_type": "stream",
     "text": [
      "Ingrese un número 1\n",
      "A = 1\n",
      "B = 11\n",
      "C = 23\n",
      "D = 40\n"
     ]
    }
   ],
   "source": [
    "a =input(\"Ingrese un número \")\n",
    "A = int(a)\n",
    "B = A + 10\n",
    "C = 2 * B + A\n",
    "D = A + B + C + 5\n",
    "print(\"A =\", A)\n",
    "print(\"B =\", B)\n",
    "print(\"C =\", C)\n",
    "print(\"D =\", D)"
   ]
  },
  {
   "cell_type": "markdown",
   "metadata": {},
   "source": [
    "8. Hacer leer un número X de tipo decimal, hallar su valor absoluto y decimal, desplegar el resultado dentro del archivo \"practica01.out\"\n",
    "Formato de salida deseado: \n",
    "Ejercicio 8.\n",
    "Número xx.yy\n",
    "Valor absoluto: xx\n",
    "Parte decimal: yy"
   ]
  },
  {
   "cell_type": "code",
   "execution_count": 24,
   "metadata": {},
   "outputs": [
    {
     "name": "stdout",
     "output_type": "stream",
     "text": [
      "Ingrese un número de tipo decimal 2.05\n",
      "Número 2.05\n",
      "Valor absoluto 2\n",
      "Parte decimal 05\n"
     ]
    }
   ],
   "source": [
    "decimal=input(\"Ingrese un número de tipo decimal \")\n",
    "numero=decimal.split(sep=\".\")\n",
    "print(\"Número\",decimal)\n",
    "if int(numero[0]) < 0:\n",
    "    numero[0] = int(numero[0]) * (-1)\n",
    "print(\"Valor absoluto\", numero[0])\n",
    "print(\"Parte decimal\", numero[1])"
   ]
  },
  {
   "cell_type": "markdown",
   "metadata": {},
   "source": [
    "9. Leer a, b, c, d, hallar el menor y mayor de los cuatro números, desplegar su resultado en el archivo \"practica01.out\""
   ]
  },
  {
   "cell_type": "code",
   "execution_count": 33,
   "metadata": {},
   "outputs": [
    {
     "name": "stdout",
     "output_type": "stream",
     "text": [
      "Ingrese el primer número 5\n",
      "Ingrese el segundo número 26\n",
      "Ingrese el tercer número 89\n",
      "Ingrese el cuarto número 4\n",
      "Menor: 4\n",
      "Mayor: 89\n"
     ]
    }
   ],
   "source": [
    "a=input(\"Ingrese el primer número \")\n",
    "menor=int(a)\n",
    "b=input(\"Ingrese el segundo número \")\n",
    "if int(b) < menor:\n",
    "    menor = int(b)\n",
    "    Mayor = int(a)\n",
    "else :\n",
    "    Mayor = int(b)\n",
    "c=input(\"Ingrese el tercer número \")\n",
    "if int(c) < menor:\n",
    "    menor = int(c)\n",
    "else:\n",
    "    if int(c) > Mayor:\n",
    "        Mayor = int(c)\n",
    "d=input(\"Ingrese el cuarto número \")\n",
    "if int(d) < menor:\n",
    "    menor = int(d)\n",
    "else: \n",
    "    if int(d) > Mayor:\n",
    "        Mayor = int(d)\n",
    "print(\"Menor:\", menor)\n",
    "print(\"Mayor:\", Mayor)"
   ]
  },
  {
   "cell_type": "markdown",
   "metadata": {},
   "source": [
    "10. Dado los valores de X, Y, Z, evaluar A = X² + Y² + Z². Si se cumple que, A<100 y Y<5 calcular B = (X + Y)² - X * Z, caso contrario calcular B = (X - Y)² + X * Z. Desplegar A y B en el archivo \"practica01.out\""
   ]
  },
  {
   "cell_type": "code",
   "execution_count": 35,
   "metadata": {},
   "outputs": [
    {
     "name": "stdout",
     "output_type": "stream",
     "text": [
      "Ingrese el valor de X 2\n",
      "Ingrese el valor de Y 1\n",
      "Ingrese el valor de Z 15\n",
      "A = 230\n",
      "B = 31\n"
     ]
    }
   ],
   "source": [
    "x1=input(\"Ingrese el valor de X \")\n",
    "y1=input(\"Ingrese el valor de Y \")\n",
    "z1=input(\"Ingrese el valor de Z \")\n",
    "x=int(x1)\n",
    "y=int(y1)\n",
    "z=int(z1)\n",
    "A = x ** 2 + y ** 2 + z ** 2\n",
    "if A < 100 & y < 5:\n",
    "    B = (x + y) ** 2 - x * z\n",
    "else :\n",
    "    B = (x - y) ** 2 + x * z\n",
    "print(\"A =\",A)\n",
    "print(\"B =\",B)"
   ]
  },
  {
   "cell_type": "code",
   "execution_count": null,
   "metadata": {},
   "outputs": [],
   "source": []
  }
 ],
 "metadata": {
  "kernelspec": {
   "display_name": "Python 3",
   "language": "python",
   "name": "python3"
  },
  "language_info": {
   "codemirror_mode": {
    "name": "ipython",
    "version": 3
   },
   "file_extension": ".py",
   "mimetype": "text/x-python",
   "name": "python",
   "nbconvert_exporter": "python",
   "pygments_lexer": "ipython3",
   "version": "3.7.4"
  }
 },
 "nbformat": 4,
 "nbformat_minor": 2
}
