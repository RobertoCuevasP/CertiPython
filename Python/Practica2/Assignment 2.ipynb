{
 "cells": [
  {
   "cell_type": "markdown",
   "metadata": {},
   "source": [
    "1. Escribir un programa que determine si el año es bisiesto. Un año es bisiesto si es\n",
    "múltiplo de 4 (1988), excepto los múltiplos de 100 que no son bisiestos salvo que a su\n",
    "vez también sean múltiplos de 400 (1800no es bisiesto, 2000 sí)."
   ]
  },
  {
   "cell_type": "code",
   "execution_count": 2,
   "metadata": {},
   "outputs": [
    {
     "name": "stdout",
     "output_type": "stream",
     "text": [
      "Ingrese año: 1800\n",
      "El año ingresado no es bisiesto\n"
     ]
    }
   ],
   "source": [
    "#Ejercicio1\n",
    "año=int(input(\"Ingrese año: \"))\n",
    "\n",
    "if año % 4 == 0:\n",
    "    if año % 100 == 0:\n",
    "        if año % 400 == 0:\n",
    "            print(\"El año ingresado es bisiesto\")\n",
    "        else:\n",
    "            print(\"El año ingresado no es bisiesto\")\n",
    "    else:\n",
    "        print(\"El año ingresado es bisiesto\")\n",
    "else:\n",
    "    print(\"El año ingresado no es bisiesto\")"
   ]
  },
  {
   "cell_type": "markdown",
   "metadata": {},
   "source": [
    "2. Dado los valores de A, B, C que son los coeficientes de la ecuación de segundo grado,\n",
    "hallar sus raíces reales, desplegar los resultados."
   ]
  },
  {
   "cell_type": "code",
   "execution_count": 50,
   "metadata": {},
   "outputs": [
    {
     "name": "stdout",
     "output_type": "stream",
     "text": [
      "Ingrese los coeficientes A, B y C para la ecuación: 7 2 2\n",
      "x = -0.14\n"
     ]
    }
   ],
   "source": [
    "#Ejercicio 2\n",
    "import math\n",
    "co=input(\"Ingrese los coeficientes A, B y C para la ecuación: \")\n",
    "listaCoefi=co.split(\" \")\n",
    "a = int(listaCoefi[0])\n",
    "b = int(listaCoefi[1])\n",
    "c = int(listaCoefi[2])\n",
    "if a == 0:\n",
    "    ans = ((-1)*c)/b\n",
    "    print(\"x =\",ans)\n",
    "else:\n",
    "    delta=(b**2 - 4*a*c)\n",
    "    if delta > 0:\n",
    "        ans1 = ((-1 * b) + math.sqrt(delta))/(2*a)\n",
    "        ans2 = ((-1 * b) - math.sqrt(delta))/(2*a)\n",
    "        print(\"x1 =\",\"{0:.2f}\".format(ans1))\n",
    "        print(\"x2 =\",\"{0:.2f}\".format(ans2))\n",
    "    else:\n",
    "        ans = ((-1)*b)/(2*a)\n",
    "        print(\"x =\",\"{0:.2f}\".format(ans))"
   ]
  },
  {
   "cell_type": "markdown",
   "metadata": {},
   "source": [
    "3. Dado dos valores A y B, realizar el producto de los dos números por sumas sucesivas,\n",
    "almacenar el resultado en una variable P, mostrar el resultado."
   ]
  },
  {
   "cell_type": "code",
   "execution_count": 7,
   "metadata": {},
   "outputs": [
    {
     "name": "stdout",
     "output_type": "stream",
     "text": [
      "Ingrese el número que desee multiplicar: 4\n",
      "Ingrese el número por el que desee multiplicarlo: 4\n",
      "El producto entre 4 y 4 es 16\n"
     ]
    }
   ],
   "source": [
    "#Ejercicio 3\n",
    "A=int(input(\"Ingrese el número que desee multiplicar: \"))\n",
    "B=int(input(\"Ingrese el número por el que desee multiplicarlo: \"))\n",
    "i = 0\n",
    "p = 0\n",
    "while i < B:\n",
    "    p+=A\n",
    "    i +=1\n",
    "print(\"El producto entre\", A, \"y\", B, \"es\", p)\n",
    "    "
   ]
  },
  {
   "cell_type": "markdown",
   "metadata": {},
   "source": [
    "4. Dado un número X, determinar el número de dígitos del que esta compuesto y\n",
    "desplegar el resultado."
   ]
  },
  {
   "cell_type": "code",
   "execution_count": 10,
   "metadata": {},
   "outputs": [
    {
     "name": "stdout",
     "output_type": "stream",
     "text": [
      "Ingrese un número: 100000000000\n",
      "El número 100000000000 tiene 12 dígitos.\n"
     ]
    }
   ],
   "source": [
    "#Ejercicio 4\n",
    "X = int(input(\"Ingrese un número: \"))\n",
    "aux= X\n",
    "c = 0\n",
    "\n",
    "while not aux == 0:\n",
    "    c += 1\n",
    "    aux = aux // 10\n",
    "print(\"El número\", X, \"tiene\", c, \"dígitos.\")"
   ]
  },
  {
   "cell_type": "markdown",
   "metadata": {},
   "source": [
    "5. Escribir un programa que calcule y visualice el más grande, el más pequeño y la media\n",
    "de N números. El valor de N se solicitará al principio del programa y los números\n",
    "serán introducidos por el usuario."
   ]
  },
  {
   "cell_type": "code",
   "execution_count": 13,
   "metadata": {},
   "outputs": [
    {
     "name": "stdout",
     "output_type": "stream",
     "text": [
      "Ingrese la cantidad de números que desea ingresar: 5\n",
      "Ingrese un número: 2\n",
      "Ingrese otro número: 3\n",
      "Ingrese otro número: 1\n",
      "Ingrese otro número: 4\n",
      "Ingrese otro número: 8\n",
      "El valor mínimo es 1 . El valor maximo es 8 . Y la media es 3.6\n"
     ]
    }
   ],
   "source": [
    "#Ejercicio 5\n",
    "N=int(input(\"Ingrese la cantidad de números que desea ingresar: \"))\n",
    "\n",
    "i = 1\n",
    "num=int(input(\"Ingrese un número: \"))\n",
    "minimo = num\n",
    "maximo = num\n",
    "suma = num\n",
    "while i < N:\n",
    "    num=int(input(\"Ingrese otro número: \"))\n",
    "    if num > maximo:\n",
    "        maximo = num\n",
    "    elif num < minimo:\n",
    "        minimo = num\n",
    "    suma += num\n",
    "    i+=1\n",
    "media=suma/N\n",
    "print(\"El valor mínimo es\",minimo,\". El valor maximo es\",maximo,\". Y la media es\",media)"
   ]
  },
  {
   "cell_type": "markdown",
   "metadata": {},
   "source": [
    "6. Dado dos números A y B enteros mayores a cero, hallar A^B por sumas. Desplegar los\n",
    "números y el resultado."
   ]
  },
  {
   "cell_type": "code",
   "execution_count": 12,
   "metadata": {},
   "outputs": [
    {
     "name": "stdout",
     "output_type": "stream",
     "text": [
      "Ingrese el número de base: 5\n",
      "Ingrese el número exponente: 3\n",
      "125\n"
     ]
    }
   ],
   "source": [
    "#Ejercicio 6\n",
    "\n",
    "a = int(input(\"Ingrese el número de base: \"))\n",
    "if a > 0:\n",
    "    b = int(input(\"Ingrese el número exponente: \"))\n",
    "    if b > 0:\n",
    "        result = a\n",
    "        i = 1\n",
    "        while i < b:\n",
    "            j = 0\n",
    "            aux=0\n",
    "            while j < a:\n",
    "                aux+=result\n",
    "                j+=1\n",
    "            result=aux\n",
    "            i+=1\n",
    "        print(result)\n",
    "    else:\n",
    "        print(\"El número debe ser mayor a 0\")\n",
    "else:\n",
    "    print(\"El número debe ser mayor a 0\")"
   ]
  },
  {
   "cell_type": "markdown",
   "metadata": {},
   "source": [
    "7. La constante pi (3.1441592...) es muy utilizada en matemáticas. Un método sencillo\n",
    "de calcular su valor es:\n",
    "         2 2 4 4 6 6 8 8 \n",
    "pi = 2 * - * - * - * - * - * - * - * -  ...\n",
    "         1 3 3 5 5 7 7 9 \n",
    "Escribir un programa que efectúe este cálculo con un número de términos\n",
    "especificando por el usuario."
   ]
  },
  {
   "cell_type": "code",
   "execution_count": 11,
   "metadata": {},
   "outputs": [
    {
     "name": "stdout",
     "output_type": "stream",
     "text": [
      "Ingrese el número de términos deseados: 4\n",
      "2.8444444444444446\n"
     ]
    }
   ],
   "source": [
    "#Ejercicio 7\n",
    "n = int(input(\"Ingrese el número de términos deseados: \"))\n",
    "numerador = 1\n",
    "denominador = 1\n",
    "if n%2==0:\n",
    "    for i in range(2,n+1,2):\n",
    "        numerador = numerador * i * i\n",
    "    for j in range(3, n,2):\n",
    "        denominador = denominador * j * j\n",
    "    denominador *= (n+1)\n",
    "    pi = (2 * numerador) / denominador\n",
    "    print(pi)\n",
    "else:\n",
    "    for i in range(2,n,2):\n",
    "        numerador = numerador * i * i\n",
    "    for j in range(3, n+1,2):\n",
    "        denominador = denominador * j * j\n",
    "    numerador *= (n+1)\n",
    "    pi = (2 * numerador) / denominador\n",
    "    print(pi)"
   ]
  },
  {
   "cell_type": "markdown",
   "metadata": {
    "scrolled": true
   },
   "source": [
    "8. El valor de e x se puede aproximar por la suma:\n",
    "e^x = 1 + x + x^2/2! + x^3/3! + x^4/4! + x^5/5! ... x^n/n!\n",
    "Escribir un programa que tome un valor de x como entrada y visualice la suma para\n",
    "cada uno de los valores de 1 a 100."
   ]
  },
  {
   "cell_type": "code",
   "execution_count": 10,
   "metadata": {},
   "outputs": [
    {
     "name": "stdout",
     "output_type": "stream",
     "text": [
      "Ingrese un número: 10\n",
      "El valor de e^x es: 22026.46579480671\n"
     ]
    }
   ],
   "source": [
    "#Ejercicio 8\n",
    "fact=[1]\n",
    "poten=[]\n",
    "acc = 1\n",
    "\n",
    "#factoriales\n",
    "for i in range(1,101):\n",
    "    acc *= i\n",
    "    fact.append(acc)\n",
    "x=int(input(\"Ingrese un número: \"))\n",
    "\n",
    "#potencias\n",
    "for j in range(0, 101):\n",
    "    aux = x ** j\n",
    "    poten.append(aux)\n",
    "    \n",
    "#suma \n",
    "result = 0\n",
    "for k in range(0,101):\n",
    "    result += (poten[k]/fact[k])\n",
    "print(\"El valor de e^x es:\",result)\n",
    "    "
   ]
  },
  {
   "cell_type": "markdown",
   "metadata": {},
   "source": [
    "9. Calcular la suma de todos los elementos de un vector, así como la media aritmética."
   ]
  },
  {
   "cell_type": "code",
   "execution_count": 4,
   "metadata": {},
   "outputs": [
    {
     "name": "stdout",
     "output_type": "stream",
     "text": [
      "Ingrese la lista bajo el siguiente formato ..,..,..: 1,2,3\n",
      "La suma del arreglo es 6 y su media aritmética es 2.0\n"
     ]
    }
   ],
   "source": [
    "#Ejercicio 9\n",
    "entrada=input(\"Ingrese la lista bajo el siguiente formato ..,..,..: \")\n",
    "lista=entrada.split(sep=\",\")\n",
    "for i in range(0,len(lista)):\n",
    "    lista[i] = int(lista[i])\n",
    "\n",
    "suma = 0\n",
    "for i in lista:\n",
    "    suma += i\n",
    "media = suma / len(lista)\n",
    "print(\"La suma del arreglo es\",suma,\"y su media aritmética es\", media)"
   ]
  },
  {
   "cell_type": "markdown",
   "metadata": {},
   "source": [
    "10. Multiplicar dos matrices."
   ]
  },
  {
   "cell_type": "code",
   "execution_count": 3,
   "metadata": {},
   "outputs": [
    {
     "name": "stdout",
     "output_type": "stream",
     "text": [
      "Ingrese las dimensiones de la matriz en el formato a,b: 2,2\n",
      "Ingrese las dimensiones de la matriz en el formato b,c: 2,2\n",
      "Ingrese los valores de la fila 0 de la primera matriz en el formato x,y,...,z: 1,2\n",
      "Ingrese los valores de la fila 1 de la primera matriz en el formato x,y,...,z: 3,4\n",
      "Ingrese los valores de la fila 0 de la segunda matriz en el formato x,y,...,z: 5,6\n",
      "Ingrese los valores de la fila 1 de la segunda matriz en el formato x,y,...,z: 7,8\n",
      "[[19, 22], [43, 50]]\n"
     ]
    }
   ],
   "source": [
    "#Ejercicio 10\n",
    "dim1 = input(\"Ingrese las dimensiones de la matriz en el formato a,b: \")\n",
    "dim2 = input(\"Ingrese las dimensiones de la matriz en el formato b,c: \")\n",
    "\n",
    "list1 = dim1.split(sep = \",\")\n",
    "list2 = dim2.split(sep = \",\")\n",
    "\n",
    "\n",
    "if list1[1] == list2[0]:\n",
    "    a = int(list1[0])\n",
    "    b = int(list1[1])\n",
    "    c = int(list2[1])\n",
    "    \n",
    "    matriz1 = []\n",
    "    for i in range(a):\n",
    "        matriz1.append([])\n",
    "    for i in range(a):\n",
    "        fila = input(\"Ingrese los valores de la fila \" + str(i) + \" de la primera matriz en el formato x,y,...,z: \")\n",
    "        listFila = fila.split(sep=\",\")\n",
    "        if len(listFila) > b:\n",
    "            print(\"Error, se colocaron más datos de lo debido\")\n",
    "            break\n",
    "        for j in range(b):\n",
    "            matriz1[i].append(int(listFila[j]))\n",
    "            \n",
    "    matriz2 = []\n",
    "    for i in range(b):\n",
    "        matriz2.append([])\n",
    "    for i in range(b):\n",
    "        fila = input(\"Ingrese los valores de la fila \" + str(i) + \" de la segunda matriz en el formato x,y,...,z: \")\n",
    "        listFila = fila.split(sep=\",\")\n",
    "        if len(listFila) > c:\n",
    "            print(\"Error, se colocaron más datos de lo debido\")\n",
    "            break\n",
    "        for j in range(c):\n",
    "            matriz2[i].append(int(listFila[j]))\n",
    "\n",
    "    matrizResult=[]\n",
    "    for i in range(a):\n",
    "        matrizResult.append([])\n",
    "        \n",
    "    #multiplicacion matrices\n",
    "    for i in range (a): #recorre filas\n",
    "        for j in range (c): #recorre columnas\n",
    "            suma = 0\n",
    "            for k in range(b): \n",
    "                aux = matriz1[i][k] * matriz2[k][j]\n",
    "                suma += aux\n",
    "            matrizResult[i].append(suma)\n",
    "    print(matrizResult)\n",
    "    \n",
    "else:\n",
    "    print(\"Las dimensiones no son compatibles\")"
   ]
  },
  {
   "cell_type": "code",
   "execution_count": null,
   "metadata": {},
   "outputs": [],
   "source": []
  }
 ],
 "metadata": {
  "kernelspec": {
   "display_name": "Python 3",
   "language": "python",
   "name": "python3"
  },
  "language_info": {
   "codemirror_mode": {
    "name": "ipython",
    "version": 3
   },
   "file_extension": ".py",
   "mimetype": "text/x-python",
   "name": "python",
   "nbconvert_exporter": "python",
   "pygments_lexer": "ipython3",
   "version": "3.7.4"
  }
 },
 "nbformat": 4,
 "nbformat_minor": 2
}
